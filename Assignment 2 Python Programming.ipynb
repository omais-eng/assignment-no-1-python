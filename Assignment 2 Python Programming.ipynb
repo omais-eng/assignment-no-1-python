{
 "cells": [
  {
   "cell_type": "code",
   "execution_count": 2,
   "metadata": {},
   "outputs": [
    {
     "name": "stdout",
     "output_type": "stream",
     "text": [
      "Assignment 2 task 1\n",
      "Enter marks of subject 1 :10\n",
      "Enter marks of subject 2 :25\n",
      "Enter marks of subjecct 3 :85\n",
      "Enter marks of subject 4 :75\n",
      "Enter marks of subject 5:96\n",
      "58.2\n",
      "Grade: F\n"
     ]
    }
   ],
   "source": [
    "Assignment=\"Assignment 2 task 1\"\n",
    "print(Assignment);\n",
    "sub1=int(input(\"Enter marks of subject 1 :\"))\n",
    "sub2=int(input(\"Enter marks of subject 2 :\"))\n",
    "sub3=int(input(\"Enter marks of subjecct 3 :\"))\n",
    "sub4=int(input(\"Enter marks of subject 4 :\"))\n",
    "sub5=int(input(\"Enter marks of subject 5:\"))\n",
    "avg=(sub1 + sub2 + sub3 + sub4 + sub5)/5;\n",
    "print(avg)\n",
    "if(avg>=90):\n",
    "    print(\"Grade: A\")\n",
    "elif(avg>=80):\n",
    "    print(\"Grade: B\")\n",
    "elif(avg>=70):\n",
    "    print(\"Grade: C\")\n",
    "elif(avg>=60):\n",
    "    print(\"Grade: D\")\n",
    "else:\n",
    "    print(\"Grade: F\")"
   ]
  },
  {
   "cell_type": "code",
   "execution_count": 3,
   "metadata": {},
   "outputs": [
    {
     "name": "stdout",
     "output_type": "stream",
     "text": [
      "Assignment 2 task 2\n",
      "Input Number : 2\n",
      "Number is Even\n"
     ]
    }
   ],
   "source": [
    "Assignment=\"Assignment 2 task 2\"\n",
    "print(Assignment);\n",
    "Number=int(input(\"Input Number : \"));\n",
    "if (Number%2==0):\n",
    "    print(\"Number is Even\")\n",
    "else :\n",
    "    print(\"Number is odd\");"
   ]
  },
  {
   "cell_type": "code",
   "execution_count": 4,
   "metadata": {},
   "outputs": [
    {
     "name": "stdout",
     "output_type": "stream",
     "text": [
      "Assignment 2 task 3\n",
      "Length of the list is :  9\n"
     ]
    }
   ],
   "source": [
    "Assignment=\"Assignment 2 task 3\"\n",
    "print(Assignment);list=[1,2,3,4,5,6,7,8,9]\n",
    "print(\"Length of the list is : \" , len(list));"
   ]
  },
  {
   "cell_type": "code",
   "execution_count": 5,
   "metadata": {},
   "outputs": [
    {
     "name": "stdout",
     "output_type": "stream",
     "text": [
      "Assignment 2 task 4\n",
      "Length of the list is :  9\n",
      "Total Sum of the list is :  45\n"
     ]
    }
   ],
   "source": [
    "Assignment=\"Assignment 2 task 4\"\n",
    "print(Assignment);\n",
    "list=[1,2,3,4,5,6,7,8,9]\n",
    "print(\"Length of the list is : \" , len(list));list = [1,2,3,4,5,6,7,8,9];\n",
    "Sum = list[0] + list[1] + list[2] + list[3] + list[4] + list[5] + list[6] + list[7] + list[8]\n",
    "print(\"Total Sum of the list is : \" , Sum );"
   ]
  },
  {
   "cell_type": "code",
   "execution_count": 6,
   "metadata": {},
   "outputs": [
    {
     "name": "stdout",
     "output_type": "stream",
     "text": [
      "Assignment 2 task 5\n",
      "Length of the list is :  9\n",
      "Total Sum of the list is :  45\n",
      "Total Largest Number of the list is :  9\n"
     ]
    }
   ],
   "source": [
    "Assignment=\"Assignment 2 task 5\"\n",
    "print(Assignment);\n",
    "list=[1,2,3,4,5,6,7,8,9]\n",
    "print(\"Length of the list is : \" , len(list));list = [1,2,3,4,5,6,7,8,9];\n",
    "Sum = list[0] + list[1] + list[2] + list[3] + list[4] + list[5] + list[6] + list[7] + list[8]\n",
    "print(\"Total Sum of the list is : \" , Sum );list = [1,2,3,4,5,6,7,8,9];\n",
    "print(\"Total Largest Number of the list is : \" , max(list) );"
   ]
  },
  {
   "cell_type": "code",
   "execution_count": 7,
   "metadata": {},
   "outputs": [
    {
     "name": "stdout",
     "output_type": "stream",
     "text": [
      "Assignment 2 task 6\n",
      "Length of the list is :  9\n",
      "Total Sum of the list is :  45\n",
      "Total Largest Number of the list is :  9\n",
      "[1, 1, 2, 3]\n"
     ]
    }
   ],
   "source": [
    "Assignment=\"Assignment 2 task 6\"\n",
    "print(Assignment);\n",
    "list=[1,2,3,4,5,6,7,8,9]\n",
    "print(\"Length of the list is : \" , len(list));list = [1,2,3,4,5,6,7,8,9];\n",
    "Sum = list[0] + list[1] + list[2] + list[3] + list[4] + list[5] + list[6] + list[7] + list[8]\n",
    "print(\"Total Sum of the list is : \" , Sum );list = [1,2,3,4,5,6,7,8,9];\n",
    "print(\"Total Largest Number of the list is : \" , max(list) );list =[1,1,2,3,5,8,13,21,34,53,89]\n",
    "b=list[:4]\n",
    "print(b);"
   ]
  },
  {
   "cell_type": "code",
   "execution_count": null,
   "metadata": {},
   "outputs": [],
   "source": []
  }
 ],
 "metadata": {
  "kernelspec": {
   "display_name": "Python 3",
   "language": "python",
   "name": "python3"
  },
  "language_info": {
   "codemirror_mode": {
    "name": "ipython",
    "version": 3
   },
   "file_extension": ".py",
   "mimetype": "text/x-python",
   "name": "python",
   "nbconvert_exporter": "python",
   "pygments_lexer": "ipython3",
   "version": "3.7.4"
  }
 },
 "nbformat": 4,
 "nbformat_minor": 2
}
