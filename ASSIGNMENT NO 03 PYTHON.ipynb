{
 "cells": [
  {
   "cell_type": "code",
   "execution_count": 2,
   "metadata": {},
   "outputs": [
    {
     "name": "stdout",
     "output_type": "stream",
     "text": [
      "Assignment No 03 Q1\n",
      "enter first value10\n",
      "enter second value20\n",
      "enter operator30\n",
      "enter correct operator\n"
     ]
    }
   ],
   "source": [
    "A=\"Assignment No 03\"\n",
    "B=\"Q1\"\n",
    "print(A , B);\n",
    "val1 = input('enter first value')\n",
    "val2 = input('enter second value')\n",
    "operator = input('enter operator')\n",
    "val1= int(val1)\n",
    "val2 = int(val2)\n",
    "\n",
    "if operator == '+':\n",
    "    val = val1 + val2 \n",
    "    print(val, 'answer')\n",
    "elif  operator == '-':\n",
    "    val = val1 - val2 \n",
    "    print(val, 'answer')\n",
    "elif  operator == '*':\n",
    "    val = val1 * val2 \n",
    "    print(val, 'answer')\n",
    "elif  operator == '/':\n",
    "    val = val1 / val2 \n",
    "    print(val, 'answer') \n",
    "elif  operator == '^':\n",
    "    val = val1 ^ val2 \n",
    "    print(val, 'answer')\n",
    "else:\n",
    "        print('enter correct operator')"
   ]
  },
  {
   "cell_type": "code",
   "execution_count": 3,
   "metadata": {},
   "outputs": [
    {
     "name": "stdout",
     "output_type": "stream",
     "text": [
      "Assignment No 03 Q2\n",
      "Checking if 4 exists in list ( using loop ) : \n",
      "Element Exists\n",
      "Checking if 4 exists in list ( using in ) : \n",
      "Element Exists\n"
     ]
    }
   ],
   "source": [
    "A=\"Assignment No 03\"\n",
    "B=\"Q2\"\n",
    "print(A , B);\n",
    "\n",
    "test_list = [ 1, 6, 3, 5, 3, 4 ] \n",
    "  \n",
    "print(\"Checking if 4 exists in list ( using loop ) : \") \n",
    "  \n",
    "# Checking if 4 exists in list  \n",
    "# using loop \n",
    "for i in test_list: \n",
    "    if(i == 4) : \n",
    "        print (\"Element Exists\") \n",
    "  \n",
    "print(\"Checking if 4 exists in list ( using in ) : \") \n",
    "  \n",
    " # Checking if 4 exists in list  \n",
    " # using in \n",
    "if (4 in test_list): \n",
    "    print (\"Element Exists\") "
   ]
  },
  {
   "cell_type": "code",
   "execution_count": 4,
   "metadata": {},
   "outputs": [
    {
     "name": "stdout",
     "output_type": "stream",
     "text": [
      "Assignment No 03 Q3\n",
      "{0: 10, 1: 20}\n",
      "{0: 10, 1: 20, 2: 30}\n"
     ]
    }
   ],
   "source": [
    "A=\"Assignment No 03\"\n",
    "B=\"Q3\"\n",
    "print(A , B);\n",
    "d = {0:10, 1:20}\n",
    "print(d)\n",
    "d.update({2:30})\n",
    "print(d);"
   ]
  },
  {
   "cell_type": "code",
   "execution_count": 10,
   "metadata": {},
   "outputs": [
    {
     "name": "stdout",
     "output_type": "stream",
     "text": [
      "Assignment No 03 Q4\n",
      "293\n"
     ]
    }
   ],
   "source": [
    "A=\"Assignment No 03\"\n",
    "B=\"Q4\"\n",
    "print(A , B);\n",
    "my_dict = {'data1':100,'data2':-54,'data3':247}\n",
    "print(sum(my_dict.values()));"
   ]
  },
  {
   "cell_type": "code",
   "execution_count": 9,
   "metadata": {},
   "outputs": [
    {
     "name": "stdout",
     "output_type": "stream",
     "text": [
      "Assignment No 03 Q5\n",
      "[2, 4, 10, 20, 5]\n"
     ]
    }
   ],
   "source": [
    "A=\"Assignment No 03\"\n",
    "B=\"Q5\"\n",
    "print(A , B);\n",
    "def Remove(duplicate): \n",
    "    final_list = [] \n",
    "    for num in duplicate: \n",
    "        if num not in final_list: \n",
    "            final_list.append(num) \n",
    "    return final_list \n",
    "      \n",
    "# Driver Code \n",
    "duplicate = [2, 4, 10, 20, 5, 2, 20, 4] \n",
    "print(Remove(duplicate));"
   ]
  },
  {
   "cell_type": "code",
   "execution_count": 11,
   "metadata": {},
   "outputs": [
    {
     "name": "stdout",
     "output_type": "stream",
     "text": [
      "Assignment No 03 Q6\n",
      "Key is present in the dictionary\n",
      "Key is not present in the dictionary\n"
     ]
    }
   ],
   "source": [
    "A=\"Assignment No 03\"\n",
    "B=\"Q6\"\n",
    "print(A , B);\n",
    "d = {1: 10, 2: 20, 3: 30, 4: 40, 5: 50, 6: 60}\n",
    "def is_key_present(x):\n",
    "  if x in d:\n",
    "      print('Key is present in the dictionary')\n",
    "  else:\n",
    "      print('Key is not present in the dictionary')\n",
    "is_key_present(5)\n",
    "is_key_present(9)"
   ]
  },
  {
   "cell_type": "code",
   "execution_count": null,
   "metadata": {},
   "outputs": [],
   "source": []
  }
 ],
 "metadata": {
  "kernelspec": {
   "display_name": "Python 3",
   "language": "python",
   "name": "python3"
  },
  "language_info": {
   "codemirror_mode": {
    "name": "ipython",
    "version": 3
   },
   "file_extension": ".py",
   "mimetype": "text/x-python",
   "name": "python",
   "nbconvert_exporter": "python",
   "pygments_lexer": "ipython3",
   "version": "3.7.4"
  }
 },
 "nbformat": 4,
 "nbformat_minor": 2
}
